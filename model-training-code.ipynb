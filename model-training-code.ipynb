{
 "cells": [
  {
   "cell_type": "markdown",
   "metadata": {},
   "source": [
    "# Fake News classifier \n",
    "\n",
    "### code derived from this Kaggle notebook: \n",
    "https://www.kaggle.com/code/dhirajchandak04/news-classification-for-beginner"
   ]
  },
  {
   "cell_type": "code",
   "execution_count": 1,
   "metadata": {
    "_cell_guid": "b1076dfc-b9ad-4769-8c92-a6c4dae69d19",
    "_uuid": "8f2839f25d086af736a60e9eeb907d3b93b6e0e5",
    "execution": {
     "iopub.execute_input": "2022-02-11T12:58:49.404406Z",
     "iopub.status.busy": "2022-02-11T12:58:49.402780Z",
     "iopub.status.idle": "2022-02-11T12:58:50.701268Z",
     "shell.execute_reply": "2022-02-11T12:58:50.701733Z",
     "shell.execute_reply.started": "2022-02-11T12:27:10.099846Z"
    },
    "papermill": {
     "duration": 1.344057,
     "end_time": "2022-02-11T12:58:50.701988",
     "exception": false,
     "start_time": "2022-02-11T12:58:49.357931",
     "status": "completed"
    },
    "tags": []
   },
   "outputs": [],
   "source": [
    "import numpy as np # linear algebra\n",
    "import pandas as pd # data processing, CSV file I/O (e.g. pd.read_csv)\n",
    "import re\n",
    "import string\n",
    "import nltk"
   ]
  },
  {
   "cell_type": "code",
   "execution_count": 2,
   "metadata": {
    "execution": {
     "iopub.execute_input": "2022-02-11T12:58:50.842127Z",
     "iopub.status.busy": "2022-02-11T12:58:50.840418Z",
     "iopub.status.idle": "2022-02-11T12:58:53.366198Z",
     "shell.execute_reply": "2022-02-11T12:58:53.366956Z",
     "shell.execute_reply.started": "2022-02-11T12:27:25.653039Z"
    },
    "papermill": {
     "duration": 2.600657,
     "end_time": "2022-02-11T12:58:53.367220",
     "exception": false,
     "start_time": "2022-02-11T12:58:50.766563",
     "status": "completed"
    },
    "tags": []
   },
   "outputs": [
    {
     "name": "stdout",
     "output_type": "stream",
     "text": [
      "Fake Shape: (23481, 4) \n",
      "Real Shape: (21417, 4)\n"
     ]
    }
   ],
   "source": [
    "fake = pd.read_csv(\"data/Fake.csv\")\n",
    "real = pd.read_csv(\"data/True.csv\")\n",
    "print(\"Fake Shape: {} \\nReal Shape: {}\".format(fake.shape, real.shape))"
   ]
  },
  {
   "cell_type": "code",
   "execution_count": 3,
   "metadata": {
    "execution": {
     "iopub.execute_input": "2022-02-11T12:58:53.450086Z",
     "iopub.status.busy": "2022-02-11T12:58:53.442307Z",
     "iopub.status.idle": "2022-02-11T12:58:53.456662Z",
     "shell.execute_reply": "2022-02-11T12:58:53.457126Z"
    },
    "papermill": {
     "duration": 0.052038,
     "end_time": "2022-02-11T12:58:53.457275",
     "exception": false,
     "start_time": "2022-02-11T12:58:53.405237",
     "status": "completed"
    },
    "tags": []
   },
   "outputs": [
    {
     "data": {
      "text/plain": [
       "array(['politicsNews', 'worldnews'], dtype=object)"
      ]
     },
     "execution_count": 3,
     "metadata": {},
     "output_type": "execute_result"
    }
   ],
   "source": [
    "real['subject'].unique()"
   ]
  },
  {
   "cell_type": "code",
   "execution_count": 4,
   "metadata": {
    "execution": {
     "iopub.execute_input": "2022-02-11T12:58:53.533207Z",
     "iopub.status.busy": "2022-02-11T12:58:53.532374Z",
     "iopub.status.idle": "2022-02-11T12:58:53.537199Z",
     "shell.execute_reply": "2022-02-11T12:58:53.537634Z"
    },
    "papermill": {
     "duration": 0.04485,
     "end_time": "2022-02-11T12:58:53.537761",
     "exception": false,
     "start_time": "2022-02-11T12:58:53.492911",
     "status": "completed"
    },
    "tags": []
   },
   "outputs": [
    {
     "data": {
      "text/plain": [
       "array(['News', 'politics', 'Government News', 'left-news', 'US_News',\n",
       "       'Middle-east'], dtype=object)"
      ]
     },
     "execution_count": 4,
     "metadata": {},
     "output_type": "execute_result"
    }
   ],
   "source": [
    "fake['subject'].unique()"
   ]
  },
  {
   "cell_type": "code",
   "execution_count": 5,
   "metadata": {
    "execution": {
     "iopub.execute_input": "2022-02-11T12:58:53.615815Z",
     "iopub.status.busy": "2022-02-11T12:58:53.614259Z",
     "iopub.status.idle": "2022-02-11T12:58:53.618177Z",
     "shell.execute_reply": "2022-02-11T12:58:53.617580Z",
     "shell.execute_reply.started": "2022-02-11T12:27:33.701059Z"
    },
    "papermill": {
     "duration": 0.04544,
     "end_time": "2022-02-11T12:58:53.618324",
     "exception": false,
     "start_time": "2022-02-11T12:58:53.572884",
     "status": "completed"
    },
    "tags": []
   },
   "outputs": [
    {
     "name": "stdout",
     "output_type": "stream",
     "text": [
      "Fake Shape: (23481, 5) \n",
      "Real Shape: (21417, 5)\n"
     ]
    }
   ],
   "source": [
    "fake['category'] = 'fake'\n",
    "real['category'] = 'real'\n",
    "print(\"Fake Shape: {} \\nReal Shape: {}\".format(fake.shape, real.shape))"
   ]
  },
  {
   "cell_type": "markdown",
   "metadata": {
    "papermill": {
     "duration": 0.035243,
     "end_time": "2022-02-11T12:58:53.689946",
     "exception": false,
     "start_time": "2022-02-11T12:58:53.654703",
     "status": "completed"
    },
    "tags": []
   },
   "source": [
    "### Whether headlines of news are sufficient enough to classify it correctly?"
   ]
  },
  {
   "cell_type": "code",
   "execution_count": 6,
   "metadata": {
    "execution": {
     "iopub.execute_input": "2022-02-11T12:58:53.764542Z",
     "iopub.status.busy": "2022-02-11T12:58:53.763808Z",
     "iopub.status.idle": "2022-02-11T12:58:53.773085Z",
     "shell.execute_reply": "2022-02-11T12:58:53.773596Z",
     "shell.execute_reply.started": "2022-02-11T12:27:38.469155Z"
    },
    "papermill": {
     "duration": 0.04882,
     "end_time": "2022-02-11T12:58:53.773725",
     "exception": false,
     "start_time": "2022-02-11T12:58:53.724905",
     "status": "completed"
    },
    "tags": []
   },
   "outputs": [
    {
     "data": {
      "text/plain": [
       "(44898, 5)"
      ]
     },
     "execution_count": 6,
     "metadata": {},
     "output_type": "execute_result"
    }
   ],
   "source": [
    "df = fake.append(real)\n",
    "df.shape"
   ]
  },
  {
   "cell_type": "code",
   "execution_count": 7,
   "metadata": {
    "execution": {
     "iopub.execute_input": "2022-02-11T12:58:53.849070Z",
     "iopub.status.busy": "2022-02-11T12:58:53.846223Z",
     "iopub.status.idle": "2022-02-11T12:58:54.149401Z",
     "shell.execute_reply": "2022-02-11T12:58:54.150246Z"
    },
    "papermill": {
     "duration": 0.341383,
     "end_time": "2022-02-11T12:58:54.150502",
     "exception": false,
     "start_time": "2022-02-11T12:58:53.809119",
     "status": "completed"
    },
    "tags": []
   },
   "outputs": [
    {
     "name": "stderr",
     "output_type": "stream",
     "text": [
      "/Users/CaitlanKrasinski/miniconda3/envs/av/lib/python3.8/site-packages/seaborn/_decorators.py:36: FutureWarning: Pass the following variables as keyword args: x, y. From version 0.12, the only valid positional argument will be `data`, and passing other arguments without an explicit keyword will result in an error or misinterpretation.\n",
      "  warnings.warn(\n"
     ]
    },
    {
     "data": {
      "text/plain": [
       "<AxesSubplot:ylabel='category'>"
      ]
     },
     "execution_count": 7,
     "metadata": {},
     "output_type": "execute_result"
    },
    {
     "data": {
      "image/png": "[encoded data removed]",
      "text/plain": [
       "<Figure size 576x288 with 1 Axes>"
      ]
     },
     "metadata": {
      "needs_background": "light"
     },
     "output_type": "display_data"
    }
   ],
   "source": [
    "import matplotlib.pyplot as plt\n",
    "import seaborn as sns\n",
    "\n",
    "plt.figure(figsize=(8,4))\n",
    "sns.barplot(df['category'].value_counts().index, df['category'].value_counts())"
   ]
  },
  {
   "cell_type": "markdown",
   "metadata": {
    "papermill": {
     "duration": 0.036465,
     "end_time": "2022-02-11T12:58:54.228796",
     "exception": false,
     "start_time": "2022-02-11T12:58:54.192331",
     "status": "completed"
    },
    "tags": []
   },
   "source": [
    "## Encoding category variable"
   ]
  },
  {
   "cell_type": "code",
   "execution_count": 8,
   "metadata": {
    "execution": {
     "iopub.execute_input": "2022-02-11T12:58:54.317914Z",
     "iopub.status.busy": "2022-02-11T12:58:54.317057Z",
     "iopub.status.idle": "2022-02-11T12:58:54.327485Z",
     "shell.execute_reply": "2022-02-11T12:58:54.327940Z",
     "shell.execute_reply.started": "2022-02-11T12:27:43.815231Z"
    },
    "papermill": {
     "duration": 0.062478,
     "end_time": "2022-02-11T12:58:54.328066",
     "exception": false,
     "start_time": "2022-02-11T12:58:54.265588",
     "status": "completed"
    },
    "tags": []
   },
   "outputs": [
    {
     "data": {
      "text/html": [
       "<div>\n",
       "<style scoped>\n",
       "    .dataframe tbody tr th:only-of-type {\n",
       "        vertical-align: middle;\n",
       "    }\n",
       "\n",
       "    .dataframe tbody tr th {\n",
       "        vertical-align: top;\n",
       "    }\n",
       "\n",
       "    .dataframe thead th {\n",
       "        text-align: right;\n",
       "    }\n",
       "</style>\n",
       "<table border=\"1\" class=\"dataframe\">\n",
       "  <thead>\n",
       "    <tr style=\"text-align: right;\">\n",
       "      <th></th>\n",
       "      <th>title</th>\n",
       "      <th>text</th>\n",
       "      <th>subject</th>\n",
       "      <th>date</th>\n",
       "      <th>category</th>\n",
       "    </tr>\n",
       "  </thead>\n",
       "  <tbody>\n",
       "    <tr>\n",
       "      <th>0</th>\n",
       "      <td>Donald Trump Sends Out Embarrassing New Year’...</td>\n",
       "      <td>Donald Trump just couldn t wish all Americans ...</td>\n",
       "      <td>News</td>\n",
       "      <td>December 31, 2017</td>\n",
       "      <td>0</td>\n",
       "    </tr>\n",
       "    <tr>\n",
       "      <th>1</th>\n",
       "      <td>Drunk Bragging Trump Staffer Started Russian ...</td>\n",
       "      <td>House Intelligence Committee Chairman Devin Nu...</td>\n",
       "      <td>News</td>\n",
       "      <td>December 31, 2017</td>\n",
       "      <td>0</td>\n",
       "    </tr>\n",
       "    <tr>\n",
       "      <th>2</th>\n",
       "      <td>Sheriff David Clarke Becomes An Internet Joke...</td>\n",
       "      <td>On Friday, it was revealed that former Milwauk...</td>\n",
       "      <td>News</td>\n",
       "      <td>December 30, 2017</td>\n",
       "      <td>0</td>\n",
       "    </tr>\n",
       "    <tr>\n",
       "      <th>3</th>\n",
       "      <td>Trump Is So Obsessed He Even Has Obama’s Name...</td>\n",
       "      <td>On Christmas day, Donald Trump announced that ...</td>\n",
       "      <td>News</td>\n",
       "      <td>December 29, 2017</td>\n",
       "      <td>0</td>\n",
       "    </tr>\n",
       "    <tr>\n",
       "      <th>4</th>\n",
       "      <td>Pope Francis Just Called Out Donald Trump Dur...</td>\n",
       "      <td>Pope Francis used his annual Christmas Day mes...</td>\n",
       "      <td>News</td>\n",
       "      <td>December 25, 2017</td>\n",
       "      <td>0</td>\n",
       "    </tr>\n",
       "  </tbody>\n",
       "</table>\n",
       "</div>"
      ],
      "text/plain": [
       "                                               title  \\\n",
       "0   Donald Trump Sends Out Embarrassing New Year’...   \n",
       "1   Drunk Bragging Trump Staffer Started Russian ...   \n",
       "2   Sheriff David Clarke Becomes An Internet Joke...   \n",
       "3   Trump Is So Obsessed He Even Has Obama’s Name...   \n",
       "4   Pope Francis Just Called Out Donald Trump Dur...   \n",
       "\n",
       "                                                text subject  \\\n",
       "0  Donald Trump just couldn t wish all Americans ...    News   \n",
       "1  House Intelligence Committee Chairman Devin Nu...    News   \n",
       "2  On Friday, it was revealed that former Milwauk...    News   \n",
       "3  On Christmas day, Donald Trump announced that ...    News   \n",
       "4  Pope Francis used his annual Christmas Day mes...    News   \n",
       "\n",
       "                date  category  \n",
       "0  December 31, 2017         0  \n",
       "1  December 31, 2017         0  \n",
       "2  December 30, 2017         0  \n",
       "3  December 29, 2017         0  \n",
       "4  December 25, 2017         0  "
      ]
     },
     "execution_count": 8,
     "metadata": {},
     "output_type": "execute_result"
    }
   ],
   "source": [
    "from sklearn.preprocessing import LabelEncoder\n",
    "le=LabelEncoder()\n",
    "df['category']=le.fit_transform(df['category'])\n",
    "df.head()"
   ]
  },
  {
   "cell_type": "markdown",
   "metadata": {
    "papermill": {
     "duration": 0.036899,
     "end_time": "2022-02-11T12:58:54.402260",
     "exception": false,
     "start_time": "2022-02-11T12:58:54.365361",
     "status": "completed"
    },
    "tags": []
   },
   "source": [
    "## Train, Validation and Test dataset.\n",
    "\n",
    "Will train the model on training dataset and test the accuracy on validation dataset. Once we finalize the model, we will test it on testing dataset to know the performance and accuracy of the model on unseen dataset."
   ]
  },
  {
   "cell_type": "code",
   "execution_count": 9,
   "metadata": {
    "execution": {
     "iopub.execute_input": "2022-02-11T12:58:54.482772Z",
     "iopub.status.busy": "2022-02-11T12:58:54.481775Z",
     "iopub.status.idle": "2022-02-11T12:58:54.487339Z",
     "shell.execute_reply": "2022-02-11T12:58:54.486839Z"
    },
    "papermill": {
     "duration": 0.04761,
     "end_time": "2022-02-11T12:58:54.487479",
     "exception": false,
     "start_time": "2022-02-11T12:58:54.439869",
     "status": "completed"
    },
    "tags": []
   },
   "outputs": [
    {
     "name": "stdout",
     "output_type": "stream",
     "text": [
      "X shape: (44898, 1)\n",
      "y shape: (44898,)\n"
     ]
    }
   ],
   "source": [
    "X = df.drop(['text','subject','date','category'], axis=1)\n",
    "y = df['category']\n",
    "print(\"X shape: {}\".format(X.shape))\n",
    "print(\"y shape: {}\".format(y.shape))"
   ]
  },
  {
   "cell_type": "code",
   "execution_count": 10,
   "metadata": {
    "execution": {
     "iopub.execute_input": "2022-02-11T12:58:54.571514Z",
     "iopub.status.busy": "2022-02-11T12:58:54.570703Z",
     "iopub.status.idle": "2022-02-11T12:58:54.613218Z",
     "shell.execute_reply": "2022-02-11T12:58:54.613657Z"
    },
    "papermill": {
     "duration": 0.088759,
     "end_time": "2022-02-11T12:58:54.613815",
     "exception": false,
     "start_time": "2022-02-11T12:58:54.525056",
     "status": "completed"
    },
    "tags": []
   },
   "outputs": [
    {
     "name": "stdout",
     "output_type": "stream",
     "text": [
      "train_X shape: (26938, 1)\n",
      "train_y shape: (26938,)\n",
      "val_X shape: (8980, 1)\n",
      "val_y shape: (8980,)\n",
      "test_X shape: (8980, 1)\n",
      "test_y shape: (8980,)\n"
     ]
    }
   ],
   "source": [
    "from sklearn.model_selection import train_test_split\n",
    "X_train, test_X, y_train, test_y = train_test_split(X,y,test_size=0.2,random_state=45,stratify=y)\n",
    "\n",
    "train_X, val_X, train_y, val_y = train_test_split(X_train,y_train,test_size=0.25,random_state=42,stratify=y_train)\n",
    "\n",
    "print(\"train_X shape: {}\".format(train_X.shape))\n",
    "print(\"train_y shape: {}\".format(train_y.shape))\n",
    "print(\"val_X shape: {}\".format(val_X.shape))\n",
    "print(\"val_y shape: {}\".format(val_y.shape))\n",
    "print(\"test_X shape: {}\".format(test_X.shape))\n",
    "print(\"test_y shape: {}\".format(test_y.shape))"
   ]
  },
  {
   "cell_type": "markdown",
   "metadata": {
    "papermill": {
     "duration": 0.038056,
     "end_time": "2022-02-11T12:58:54.690200",
     "exception": false,
     "start_time": "2022-02-11T12:58:54.652144",
     "status": "completed"
    },
    "tags": []
   },
   "source": [
    "## Text Preprocessing"
   ]
  },
  {
   "cell_type": "code",
   "execution_count": 11,
   "metadata": {
    "execution": {
     "iopub.execute_input": "2022-02-11T12:58:54.775034Z",
     "iopub.status.busy": "2022-02-11T12:58:54.774371Z",
     "iopub.status.idle": "2022-02-11T12:58:54.782705Z",
     "shell.execute_reply": "2022-02-11T12:58:54.782240Z",
     "shell.execute_reply.started": "2022-02-11T12:27:57.590752Z"
    },
    "papermill": {
     "duration": 0.054593,
     "end_time": "2022-02-11T12:58:54.782824",
     "exception": false,
     "start_time": "2022-02-11T12:58:54.728231",
     "status": "completed"
    },
    "tags": []
   },
   "outputs": [],
   "source": [
    "from nltk.corpus import stopwords\n",
    "stopwords = set(stopwords.words('english'))\n",
    "\n",
    "def remove_stopwords(text):\n",
    "    return \" \".join([word for word in str(text).split() if word not in stopwords])\n",
    "\n",
    "from nltk.stem import WordNetLemmatizer\n",
    "lemmatizer = WordNetLemmatizer()\n",
    "def lemmatize_words(text):\n",
    "    return \" \".join(lemmatizer.lemmatize(word) for word in text.split())\n",
    "\n",
    "def preprocessing(df, col):\n",
    "    df['lower'] = df[col].str.lower()\n",
    "    df['wo_punc'] = df['lower'].apply(lambda text: re.sub('[^a-zA-Z0-9]', ' ', text))\n",
    "    df['wo_stopw'] = df['wo_punc'].apply(lambda text: remove_stopwords(text))\n",
    "    df[\"lemmatized\"] = df[\"wo_stopw\"].apply(lambda text: lemmatize_words(text))\n",
    "    df.drop([col, 'lower', 'wo_stopw', 'wo_punc'], axis=1, inplace=True)\n",
    "    return df"
   ]
  },
  {
   "cell_type": "code",
   "execution_count": 12,
   "metadata": {
    "execution": {
     "iopub.execute_input": "2022-02-11T12:58:54.885187Z",
     "iopub.status.busy": "2022-02-11T12:58:54.884366Z",
     "iopub.status.idle": "2022-02-11T12:58:59.337041Z",
     "shell.execute_reply": "2022-02-11T12:58:59.336328Z"
    },
    "papermill": {
     "duration": 4.516406,
     "end_time": "2022-02-11T12:58:59.337220",
     "exception": false,
     "start_time": "2022-02-11T12:58:54.820814",
     "status": "completed"
    },
    "tags": []
   },
   "outputs": [
    {
     "name": "stderr",
     "output_type": "stream",
     "text": [
      "<ipython-input-11-0c86b8859847>:13: SettingWithCopyWarning: \n",
      "A value is trying to be set on a copy of a slice from a DataFrame.\n",
      "Try using .loc[row_indexer,col_indexer] = value instead\n",
      "\n",
      "See the caveats in the documentation: https://pandas.pydata.org/pandas-docs/stable/user_guide/indexing.html#returning-a-view-versus-a-copy\n",
      "  df['lower'] = df[col].str.lower()\n",
      "<ipython-input-11-0c86b8859847>:14: SettingWithCopyWarning: \n",
      "A value is trying to be set on a copy of a slice from a DataFrame.\n",
      "Try using .loc[row_indexer,col_indexer] = value instead\n",
      "\n",
      "See the caveats in the documentation: https://pandas.pydata.org/pandas-docs/stable/user_guide/indexing.html#returning-a-view-versus-a-copy\n",
      "  df['wo_punc'] = df['lower'].apply(lambda text: re.sub('[^a-zA-Z0-9]', ' ', text))\n",
      "<ipython-input-11-0c86b8859847>:15: SettingWithCopyWarning: \n",
      "A value is trying to be set on a copy of a slice from a DataFrame.\n",
      "Try using .loc[row_indexer,col_indexer] = value instead\n",
      "\n",
      "See the caveats in the documentation: https://pandas.pydata.org/pandas-docs/stable/user_guide/indexing.html#returning-a-view-versus-a-copy\n",
      "  df['wo_stopw'] = df['wo_punc'].apply(lambda text: remove_stopwords(text))\n",
      "<ipython-input-11-0c86b8859847>:16: SettingWithCopyWarning: \n",
      "A value is trying to be set on a copy of a slice from a DataFrame.\n",
      "Try using .loc[row_indexer,col_indexer] = value instead\n",
      "\n",
      "See the caveats in the documentation: https://pandas.pydata.org/pandas-docs/stable/user_guide/indexing.html#returning-a-view-versus-a-copy\n",
      "  df[\"lemmatized\"] = df[\"wo_stopw\"].apply(lambda text: lemmatize_words(text))\n",
      "/Users/CaitlanKrasinski/miniconda3/envs/av/lib/python3.8/site-packages/pandas/core/frame.py:4163: SettingWithCopyWarning: \n",
      "A value is trying to be set on a copy of a slice from a DataFrame\n",
      "\n",
      "See the caveats in the documentation: https://pandas.pydata.org/pandas-docs/stable/user_guide/indexing.html#returning-a-view-versus-a-copy\n",
      "  return super().drop(\n"
     ]
    },
    {
     "name": "stdout",
     "output_type": "stream",
     "text": [
      "Train Shape: (26938, 1) \n",
      "Validation Shape: (8980, 1) \n",
      "Test Shape: (8980, 1)\n"
     ]
    }
   ],
   "source": [
    "train_X = preprocessing(train_X, 'title')\n",
    "val_X = preprocessing(val_X, 'title')\n",
    "test_X = preprocessing(test_X, 'title')\n",
    "print(\"Train Shape: {} \\nValidation Shape: {} \\nTest Shape: {}\".format(train_X.shape, val_X.shape, test_X.shape))"
   ]
  },
  {
   "cell_type": "markdown",
   "metadata": {
    "papermill": {
     "duration": 0.038167,
     "end_time": "2022-02-11T12:58:59.416072",
     "exception": false,
     "start_time": "2022-02-11T12:58:59.377905",
     "status": "completed"
    },
    "tags": []
   },
   "source": [
    "## Matrix Generation using Bag of Word"
   ]
  },
  {
   "cell_type": "code",
   "execution_count": 13,
   "metadata": {
    "execution": {
     "iopub.execute_input": "2022-02-11T12:58:59.523405Z",
     "iopub.status.busy": "2022-02-11T12:58:59.508333Z",
     "iopub.status.idle": "2022-02-11T12:59:00.748988Z",
     "shell.execute_reply": "2022-02-11T12:59:00.748469Z"
    },
    "papermill": {
     "duration": 1.294442,
     "end_time": "2022-02-11T12:59:00.749121",
     "exception": false,
     "start_time": "2022-02-11T12:58:59.454679",
     "status": "completed"
    },
    "tags": []
   },
   "outputs": [],
   "source": [
    "from sklearn.feature_extraction.text import CountVectorizer\n",
    "bow = CountVectorizer(max_features=9000)\n",
    "train_vector_bow = bow.fit_transform(train_X['lemmatized']).toarray()\n",
    "val_vector_bow = bow.transform(val_X['lemmatized']).toarray()\n",
    "test_vector_bow = bow.transform(test_X['lemmatized']).toarray()"
   ]
  },
  {
   "cell_type": "markdown",
   "metadata": {
    "papermill": {
     "duration": 0.042501,
     "end_time": "2022-02-11T12:59:00.835412",
     "exception": false,
     "start_time": "2022-02-11T12:59:00.792911",
     "status": "completed"
    },
    "tags": []
   },
   "source": [
    "## Model"
   ]
  },
  {
   "cell_type": "code",
   "execution_count": 14,
   "metadata": {
    "execution": {
     "iopub.execute_input": "2022-02-11T12:59:08.956128Z",
     "iopub.status.busy": "2022-02-11T12:59:08.955135Z",
     "iopub.status.idle": "2022-02-11T12:59:42.717762Z",
     "shell.execute_reply": "2022-02-11T12:59:42.718614Z"
    },
    "papermill": {
     "duration": 33.807951,
     "end_time": "2022-02-11T12:59:42.718905",
     "exception": false,
     "start_time": "2022-02-11T12:59:08.910954",
     "status": "completed"
    },
    "tags": []
   },
   "outputs": [],
   "source": [
    "from sklearn.linear_model import LogisticRegression\n",
    "\n",
    "lrc_bow = LogisticRegression().fit(train_vector_bow,train_y)"
   ]
  },
  {
   "cell_type": "markdown",
   "metadata": {
    "papermill": {
     "duration": 0.039179,
     "end_time": "2022-02-11T13:04:35.386392",
     "exception": false,
     "start_time": "2022-02-11T13:04:35.347213",
     "status": "completed"
    },
    "tags": []
   },
   "source": [
    "### Fine tune the model on **Validation dataset**."
   ]
  },
  {
   "cell_type": "code",
   "execution_count": 15,
   "metadata": {
    "execution": {
     "iopub.execute_input": "2022-02-11T13:04:36.233441Z",
     "iopub.status.busy": "2022-02-11T13:04:36.231392Z",
     "iopub.status.idle": "2022-02-11T13:04:36.739173Z",
     "shell.execute_reply": "2022-02-11T13:04:36.738728Z"
    },
    "papermill": {
     "duration": 0.551337,
     "end_time": "2022-02-11T13:04:36.739291",
     "exception": false,
     "start_time": "2022-02-11T13:04:36.187954",
     "status": "completed"
    },
    "tags": []
   },
   "outputs": [
    {
     "data": {
      "text/plain": [
       "<AxesSubplot:>"
      ]
     },
     "execution_count": 15,
     "metadata": {},
     "output_type": "execute_result"
    },
    {
     "data": {
      "image/png": "[encoded data removed]",
      "text/plain": [
       "<Figure size 432x288 with 2 Axes>"
      ]
     },
     "metadata": {
      "needs_background": "light"
     },
     "output_type": "display_data"
    }
   ],
   "source": [
    "import seaborn as sns\n",
    "from sklearn.metrics import confusion_matrix\n",
    "\n",
    "val_pred_lrc_bow = lrc_bow.predict(val_vector_bow)\n",
    "cm=confusion_matrix(val_y,val_pred_lrc_bow)\n",
    "sns.heatmap(cm,cmap='BuPu',annot=True,fmt='d', xticklabels=['fake', 'real'], yticklabels=['fake', 'real'])"
   ]
  },
  {
   "cell_type": "markdown",
   "metadata": {
    "papermill": {
     "duration": 0.041946,
     "end_time": "2022-02-11T13:04:39.553098",
     "exception": false,
     "start_time": "2022-02-11T13:04:39.511152",
     "status": "completed"
    },
    "tags": []
   },
   "source": [
    "## Predict and find out the accuracy on test dataset (Matrix generated using BoW)"
   ]
  },
  {
   "cell_type": "code",
   "execution_count": 16,
   "metadata": {
    "execution": {
     "iopub.execute_input": "2022-02-11T13:04:40.554309Z",
     "iopub.status.busy": "2022-02-11T13:04:40.553402Z",
     "iopub.status.idle": "2022-02-11T13:04:41.060240Z",
     "shell.execute_reply": "2022-02-11T13:04:41.059712Z"
    },
    "papermill": {
     "duration": 0.555214,
     "end_time": "2022-02-11T13:04:41.060356",
     "exception": false,
     "start_time": "2022-02-11T13:04:40.505142",
     "status": "completed"
    },
    "tags": []
   },
   "outputs": [
    {
     "data": {
      "text/plain": [
       "<AxesSubplot:>"
      ]
     },
     "execution_count": 16,
     "metadata": {},
     "output_type": "execute_result"
    },
    {
     "data": {
      "image/png": "[encoded data removed]",
      "text/plain": [
       "<Figure size 432x288 with 2 Axes>"
      ]
     },
     "metadata": {
      "needs_background": "light"
     },
     "output_type": "display_data"
    }
   ],
   "source": [
    "test_pred_lrc_bow = lrc_bow.predict(test_vector_bow)\n",
    "cm = confusion_matrix(test_y,test_pred_lrc_bow)\n",
    "sns.heatmap(cm,cmap='BuPu',annot=True,fmt='d', xticklabels=['fake', 'real'], yticklabels=['fake', 'real'])"
   ]
  },
  {
   "cell_type": "code",
   "execution_count": 17,
   "metadata": {
    "execution": {
     "iopub.execute_input": "2022-02-11T13:04:44.080428Z",
     "iopub.status.busy": "2022-02-11T13:04:44.079624Z",
     "iopub.status.idle": "2022-02-11T13:04:44.111539Z",
     "shell.execute_reply": "2022-02-11T13:04:44.110900Z"
    },
    "papermill": {
     "duration": 0.084306,
     "end_time": "2022-02-11T13:04:44.111679",
     "exception": false,
     "start_time": "2022-02-11T13:04:44.027373",
     "status": "completed"
    },
    "tags": []
   },
   "outputs": [
    {
     "name": "stdout",
     "output_type": "stream",
     "text": [
      "******** Logistic Regression **********\n",
      "Precision Score:  0.9298046342571559\n",
      "Recall Score:  0.9554154995331466\n",
      "Accuracy Score:  0.9443207126948775\n",
      "********************************************\n"
     ]
    }
   ],
   "source": [
    "from sklearn.metrics import precision_score\n",
    "from sklearn.metrics import recall_score\n",
    "from sklearn.metrics import accuracy_score\n",
    "\n",
    "print('******** Logistic Regression **********')\n",
    "print('Precision Score: ',precision_score(test_y,test_pred_lrc_bow))\n",
    "print('Recall Score: ',recall_score(test_y,test_pred_lrc_bow))\n",
    "print('Accuracy Score: ',accuracy_score(test_y,test_pred_lrc_bow))\n",
    "print('********************************************')"
   ]
  },
  {
   "cell_type": "markdown",
   "metadata": {
    "papermill": {
     "duration": 0.045393,
     "end_time": "2022-02-11T13:04:44.203027",
     "exception": false,
     "start_time": "2022-02-11T13:04:44.157634",
     "status": "completed"
    },
    "tags": []
   },
   "source": [
    "## Matrix Generation using TF-IDF"
   ]
  },
  {
   "cell_type": "code",
   "execution_count": 18,
   "metadata": {
    "execution": {
     "iopub.execute_input": "2022-02-11T13:04:44.307036Z",
     "iopub.status.busy": "2022-02-11T13:04:44.305544Z",
     "iopub.status.idle": "2022-02-11T13:04:46.360672Z",
     "shell.execute_reply": "2022-02-11T13:04:46.361104Z"
    },
    "papermill": {
     "duration": 2.112412,
     "end_time": "2022-02-11T13:04:46.361275",
     "exception": false,
     "start_time": "2022-02-11T13:04:44.248863",
     "status": "completed"
    },
    "tags": []
   },
   "outputs": [],
   "source": [
    "from sklearn.feature_extraction.text import TfidfVectorizer\n",
    "tfidf = TfidfVectorizer(max_features=9000)\n",
    "train_vector_tfidf = tfidf.fit_transform(train_X['lemmatized']).toarray()\n",
    "val_vector_tfidf = tfidf.transform(val_X['lemmatized']).toarray()\n",
    "test_vector_tfidf = tfidf.transform(test_X['lemmatized']).toarray()"
   ]
  },
  {
   "cell_type": "code",
   "execution_count": 19,
   "metadata": {
    "execution": {
     "iopub.execute_input": "2022-02-11T13:04:47.678186Z",
     "iopub.status.busy": "2022-02-11T13:04:47.677276Z",
     "iopub.status.idle": "2022-02-11T13:04:51.905460Z",
     "shell.execute_reply": "2022-02-11T13:04:51.906532Z"
    },
    "papermill": {
     "duration": 4.280101,
     "end_time": "2022-02-11T13:04:51.906803",
     "exception": false,
     "start_time": "2022-02-11T13:04:47.626702",
     "status": "completed"
    },
    "tags": []
   },
   "outputs": [],
   "source": [
    "from sklearn.linear_model import LogisticRegression\n",
    "\n",
    "lrc_tfidf = LogisticRegression().fit(train_vector_tfidf,train_y)"
   ]
  },
  {
   "cell_type": "markdown",
   "metadata": {
    "papermill": {
     "duration": 0.046132,
     "end_time": "2022-02-11T13:10:46.747828",
     "exception": false,
     "start_time": "2022-02-11T13:10:46.701696",
     "status": "completed"
    },
    "tags": []
   },
   "source": [
    "### Fine tune the model on **Validation dataset**."
   ]
  },
  {
   "cell_type": "code",
   "execution_count": 20,
   "metadata": {
    "execution": {
     "iopub.execute_input": "2022-02-11T13:10:47.443057Z",
     "iopub.status.busy": "2022-02-11T13:10:47.442184Z",
     "iopub.status.idle": "2022-02-11T13:10:47.766802Z",
     "shell.execute_reply": "2022-02-11T13:10:47.767178Z"
    },
    "papermill": {
     "duration": 0.377612,
     "end_time": "2022-02-11T13:10:47.767318",
     "exception": false,
     "start_time": "2022-02-11T13:10:47.389706",
     "status": "completed"
    },
    "tags": []
   },
   "outputs": [
    {
     "data": {
      "text/plain": [
       "<AxesSubplot:>"
      ]
     },
     "execution_count": 20,
     "metadata": {},
     "output_type": "execute_result"
    },
    {
     "data": {
      "image/png": "[encoded data removed]",
      "text/plain": [
       "<Figure size 432x288 with 2 Axes>"
      ]
     },
     "metadata": {
      "needs_background": "light"
     },
     "output_type": "display_data"
    }
   ],
   "source": [
    "val_pred_lrc_tfidf = lrc_tfidf.predict(val_vector_tfidf)\n",
    "cm=confusion_matrix(val_y,val_pred_lrc_tfidf)\n",
    "sns.heatmap(cm,cmap='BuPu',annot=True,fmt='d', xticklabels=['fake', 'real'], yticklabels=['fake', 'real'])"
   ]
  },
  {
   "cell_type": "markdown",
   "metadata": {
    "papermill": {
     "duration": 0.049019,
     "end_time": "2022-02-11T13:10:51.010368",
     "exception": false,
     "start_time": "2022-02-11T13:10:50.961349",
     "status": "completed"
    },
    "tags": []
   },
   "source": [
    "## Predict and find out the accuracy on test dataset (Matrix generated using TF-IDF)"
   ]
  },
  {
   "cell_type": "code",
   "execution_count": 21,
   "metadata": {
    "execution": {
     "iopub.execute_input": "2022-02-11T13:10:51.724056Z",
     "iopub.status.busy": "2022-02-11T13:10:51.723140Z",
     "iopub.status.idle": "2022-02-11T13:10:52.052837Z",
     "shell.execute_reply": "2022-02-11T13:10:52.052245Z"
    },
    "papermill": {
     "duration": 0.387663,
     "end_time": "2022-02-11T13:10:52.052961",
     "exception": false,
     "start_time": "2022-02-11T13:10:51.665298",
     "status": "completed"
    },
    "tags": []
   },
   "outputs": [
    {
     "data": {
      "text/plain": [
       "<AxesSubplot:>"
      ]
     },
     "execution_count": 21,
     "metadata": {},
     "output_type": "execute_result"
    },
    {
     "data": {
      "image/png": "[encoded data removed]",
      "text/plain": [
       "<Figure size 432x288 with 2 Axes>"
      ]
     },
     "metadata": {
      "needs_background": "light"
     },
     "output_type": "display_data"
    }
   ],
   "source": [
    "test_pred_lrc_tfidf = lrc_tfidf.predict(test_vector_tfidf)\n",
    "cm = confusion_matrix(test_y,test_pred_lrc_tfidf)\n",
    "sns.heatmap(cm,cmap='BuPu',annot=True,fmt='d', xticklabels=['fake', 'real'], yticklabels=['fake', 'real'])"
   ]
  },
  {
   "cell_type": "code",
   "execution_count": 22,
   "metadata": {
    "execution": {
     "iopub.execute_input": "2022-02-11T13:10:55.339260Z",
     "iopub.status.busy": "2022-02-11T13:10:55.338330Z",
     "iopub.status.idle": "2022-02-11T13:10:55.370717Z",
     "shell.execute_reply": "2022-02-11T13:10:55.371441Z"
    },
    "papermill": {
     "duration": 0.093005,
     "end_time": "2022-02-11T13:10:55.371660",
     "exception": false,
     "start_time": "2022-02-11T13:10:55.278655",
     "status": "completed"
    },
    "tags": []
   },
   "outputs": [
    {
     "name": "stdout",
     "output_type": "stream",
     "text": [
      "******** Logistic Regression **********\n",
      "Precision Score:  0.9228675136116152\n",
      "Recall Score:  0.9495798319327731\n",
      "Accuracy Score:  0.9380846325167038\n",
      "********************************************\n"
     ]
    }
   ],
   "source": [
    "print('******** Logistic Regression **********')\n",
    "print('Precision Score: ',precision_score(test_y,test_pred_lrc_tfidf))\n",
    "print('Recall Score: ',recall_score(test_y,test_pred_lrc_tfidf))\n",
    "print('Accuracy Score: ',accuracy_score(test_y,test_pred_lrc_tfidf))\n",
    "print('********************************************')"
   ]
  },
  {
   "cell_type": "markdown",
   "metadata": {},
   "source": [
    "# For usability purposes and to avoid overfitting, headline is enough to classify if the news os fake or not \n",
    "\n",
    "94% accuracy using headline is sufficient for the scope of the project \n",
    "\n",
    "When using content the accuracy, precision and recall rise to 99% which may indicate some overfitting \n",
    "\n",
    "Adding entire text is also tasking for a user \n",
    "\n",
    "No significant difference between BOW and TFIDF - will use BOW"
   ]
  },
  {
   "cell_type": "markdown",
   "metadata": {
    "papermill": {
     "duration": 0.059341,
     "end_time": "2022-02-11T13:14:30.151924",
     "exception": false,
     "start_time": "2022-02-11T13:14:30.092583",
     "status": "completed"
    },
    "tags": []
   },
   "source": [
    "# FINAL MODEL "
   ]
  },
  {
   "cell_type": "code",
   "execution_count": 37,
   "metadata": {},
   "outputs": [],
   "source": [
    "import numpy as np \n",
    "import pandas as pd\n",
    "import re\n",
    "import nltk\n",
    "from sklearn.preprocessing import LabelEncoder\n",
    "from sklearn.model_selection import train_test_split\n",
    "from nltk.corpus import stopwords\n",
    "from nltk.stem import WordNetLemmatizer\n",
    "\n",
    "import warnings\n",
    "warnings.filterwarnings('ignore')"
   ]
  },
  {
   "cell_type": "code",
   "execution_count": 38,
   "metadata": {},
   "outputs": [],
   "source": [
    "fake = pd.read_csv(\"data/Fake.csv\")\n",
    "real = pd.read_csv(\"data/True.csv\")\n",
    "\n",
    "fake['category'] = 'fake'\n",
    "real['category'] = 'real'\n",
    "\n",
    "df = fake.append(real)\n",
    "\n",
    "le=LabelEncoder()\n",
    "df['category']=le.fit_transform(df['category'])\n",
    "\n",
    "\n",
    "X = df.drop(['text','subject','date','category'], axis=1)\n",
    "y = df['category']\n",
    "\n",
    "X_train, test_X, y_train, test_y = train_test_split(X,y,test_size=0.2,random_state=45,stratify=y)\n",
    "\n",
    "train_X, val_X, train_y, val_y = train_test_split(X_train,y_train,test_size=0.25,random_state=42,stratify=y_train)"
   ]
  },
  {
   "cell_type": "code",
   "execution_count": 39,
   "metadata": {},
   "outputs": [],
   "source": [
    "stopwords = set(stopwords.words('english'))\n",
    "\n",
    "def remove_stopwords(text):\n",
    "    return \" \".join([word for word in str(text).split() if word not in stopwords])\n",
    "\n",
    "lemmatizer = WordNetLemmatizer()\n",
    "def lemmatize_words(text):\n",
    "    return \" \".join(lemmatizer.lemmatize(word) for word in text.split())\n",
    "\n",
    "def preprocessing(df, col):\n",
    "    df['lower'] = df[col].str.lower()\n",
    "    df['wo_punc'] = df['lower'].apply(lambda text: re.sub('[^a-zA-Z0-9]', ' ', text))\n",
    "    df['wo_stopw'] = df['wo_punc'].apply(lambda text: remove_stopwords(text))\n",
    "    df[\"lemmatized\"] = df[\"wo_stopw\"].apply(lambda text: lemmatize_words(text))\n",
    "    df.drop([col, 'lower', 'wo_stopw', 'wo_punc'], axis=1, inplace=True)\n",
    "    return df"
   ]
  },
  {
   "cell_type": "code",
   "execution_count": 40,
   "metadata": {},
   "outputs": [],
   "source": [
    "train_X = preprocessing(train_X, 'title')\n",
    "val_X = preprocessing(val_X, 'title')\n",
    "test_X = preprocessing(test_X, 'title')\n",
    "\n",
    "bow = CountVectorizer(max_features=9000)\n",
    "train_vector_bow = bow.fit_transform(train_X['lemmatized']).toarray()\n",
    "val_vector_bow = bow.transform(val_X['lemmatized']).toarray()\n",
    "test_vector_bow = bow.transform(test_X['lemmatized']).toarray()\n",
    "\n",
    "lrc_bow = LogisticRegression().fit(train_vector_bow,train_y)"
   ]
  },
  {
   "cell_type": "code",
   "execution_count": 41,
   "metadata": {},
   "outputs": [],
   "source": [
    "import pickle\n",
    "\n",
    "pickle.dump(bow, open('models/bow.pkl', 'wb'))\n",
    "pickle.dump(lrc_bow, open('models/model.pkl', 'wb'))"
   ]
  },
  {
   "cell_type": "code",
   "execution_count": 42,
   "metadata": {},
   "outputs": [],
   "source": [
    "# will need these functions and imports for the uI code to clean user input \n",
    "\n",
    "from nltk.corpus import stopwords\n",
    "from nltk.stem import WordNetLemmatizer\n",
    "import pickle\n",
    "\n",
    "stopwords = set(stopwords.words('english'))\n",
    "\n",
    "def remove_stopwords(text):\n",
    "    return \" \".join([word for word in str(text).split() if word not in stopwords])\n",
    "\n",
    "lemmatizer = WordNetLemmatizer()\n",
    "def lemmatize_words(text):\n",
    "    return \" \".join(lemmatizer.lemmatize(word) for word in text.split())\n",
    "\n",
    "def prep_headline(headline):\n",
    "    headline = remove_stopwords(headline)\n",
    "    headline = lemmatize_words(headline)    \n",
    "    headline_bow = bow.transform([headline]).toarray()\n",
    "    return headline_bow\n",
    "\n",
    "# headline from today as an example \n",
    "headline = prep_headline('Whistleblower says Patrick Brown approved third-party payment amid Conservative campaign')"
   ]
  },
  {
   "cell_type": "code",
   "execution_count": 43,
   "metadata": {},
   "outputs": [
    {
     "data": {
      "text/plain": [
       "array([1])"
      ]
     },
     "execution_count": 43,
     "metadata": {},
     "output_type": "execute_result"
    }
   ],
   "source": [
    "lrc_bow.predict(headline)"
   ]
  },
  {
   "cell_type": "code",
   "execution_count": 44,
   "metadata": {},
   "outputs": [
    {
     "data": {
      "text/plain": [
       "array([[0.28745, 0.71255]])"
      ]
     },
     "execution_count": 44,
     "metadata": {},
     "output_type": "execute_result"
    }
   ],
   "source": [
    "lrc_bow.predict_proba(headline)"
   ]
  },
  {
   "cell_type": "markdown",
   "metadata": {},
   "source": [
    "0 - Fake\n",
    "\n",
    "1 - Real"
   ]
  },
  {
   "cell_type": "code",
   "execution_count": null,
   "metadata": {},
   "outputs": [],
   "source": []
  }
 ],
 "metadata": {
  "kernelspec": {
   "display_name": "Python 3",
   "language": "python",
   "name": "python3"
  },
  "language_info": {
   "codemirror_mode": {
    "name": "ipython",
    "version": 3
   },
   "file_extension": ".py",
   "mimetype": "text/x-python",
   "name": "python",
   "nbconvert_exporter": "python",
   "pygments_lexer": "ipython3",
   "version": "3.8.5"
  },
  "papermill": {
   "default_parameters": {},
   "duration": 950.21809,
   "end_time": "2022-02-11T13:14:31.329451",
   "environment_variables": {},
   "exception": null,
   "input_path": "__notebook__.ipynb",
   "output_path": "__notebook__.ipynb",
   "parameters": {},
   "start_time": "2022-02-11T12:58:41.111361",
   "version": "2.3.3"
  }
 },
 "nbformat": 4,
 "nbformat_minor": 5
}
